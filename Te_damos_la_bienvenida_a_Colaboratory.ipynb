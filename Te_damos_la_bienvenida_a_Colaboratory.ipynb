{
  "nbformat": 4,
  "nbformat_minor": 0,
  "metadata": {
    "colab": {
      "name": "Te damos la bienvenida a Colaboratory",
      "provenance": [],
      "collapsed_sections": [],
      "include_colab_link": true
    },
    "kernelspec": {
      "display_name": "Python 3",
      "name": "python3"
    }
  },
  "cells": [
    {
      "cell_type": "markdown",
      "metadata": {
        "id": "view-in-github",
        "colab_type": "text"
      },
      "source": [
        "<a href=\"https://colab.research.google.com/github/USIS015220/coolab/blob/main/Te_damos_la_bienvenida_a_Colaboratory.ipynb\" target=\"_parent\"><img src=\"https://colab.research.google.com/assets/colab-badge.svg\" alt=\"Open In Colab\"/></a>"
      ]
    },
    {
      "cell_type": "markdown",
      "metadata": {
        "id": "AnOk1uLzb6mS"
      },
      "source": [
        "USO de TENSORFLOW\n",
        "HOLA MUNDO"
      ]
    },
    {
      "cell_type": "code",
      "metadata": {
        "id": "gYP-O57Zb_RC",
        "colab": {
          "base_uri": "https://localhost:8080/"
        },
        "outputId": "9cc362a6-b59a-403f-9483-1f14138c8922"
      },
      "source": [
        "import tensorflow as tf \n",
        "resp = tf.add(3,8).numpy()\n",
        "print(resp)"
      ],
      "execution_count": null,
      "outputs": [
        {
          "output_type": "stream",
          "name": "stdout",
          "text": [
            "11\n"
          ]
        }
      ]
    },
    {
      "cell_type": "code",
      "metadata": {
        "id": "OF-Gv5CuiMWg"
      },
      "source": [
        "#importaciones de librerias a utilizar\n",
        "import tensorflow as tf\n",
        "import pandas as pd \n",
        "import matplotlib.pyplot as plt\n",
        "import seaborn as sns"
      ],
      "execution_count": null,
      "outputs": []
    },
    {
      "cell_type": "code",
      "metadata": {
        "colab": {
          "base_uri": "https://localhost:8080/",
          "height": 333
        },
        "id": "lJ04qiJ2ivTY",
        "outputId": "0bcf5c56-9d19-4655-c05c-c973f76983c0"
      },
      "source": [
        "#obtencion de los datos de entrenamiento\n",
        "temperaturas = pd.read_csv(\"/content/dataset.csv\", sep=\";\")\n",
        "\n",
        "sns.scatterplot(temperaturas[\"Celsius\"], temperaturas[\"Fahrenheit\"])\n",
        "plt.show()"
      ],
      "execution_count": null,
      "outputs": [
        {
          "output_type": "stream",
          "name": "stderr",
          "text": [
            "/usr/local/lib/python3.7/dist-packages/seaborn/_decorators.py:43: FutureWarning: Pass the following variables as keyword args: x, y. From version 0.12, the only valid positional argument will be `data`, and passing other arguments without an explicit keyword will result in an error or misinterpretation.\n",
            "  FutureWarning\n"
          ]
        },
        {
          "output_type": "display_data",
          "data": {
            "image/png": "[encoded data removed]",
            "text/plain": [
              "<Figure size 432x288 with 1 Axes>"
            ]
          },
          "metadata": {
            "needs_background": "light"
          }
        }
      ]
    },
    {
      "cell_type": "code",
      "metadata": {
        "id": "sHzgJ7nGk_g0"
      },
      "source": [
        "#datos de entrada y salida \n",
        "Celsius = temperaturas[\"Celsius\"]\n",
        "Fahrenheit = temperaturas['Fahrenheit']"
      ],
      "execution_count": null,
      "outputs": []
    },
    {
      "cell_type": "code",
      "metadata": {
        "id": "lkWdoVXclzOx"
      },
      "source": [
        "#modelo de entrenamiento\n",
        "modelo = tf.keras.Sequential()\n",
        "modelo.add(tf.keras.layers.Dense(units=1, input_shape=[1]))"
      ],
      "execution_count": null,
      "outputs": []
    },
    {
      "cell_type": "code",
      "metadata": {
        "id": "jxmr_2ZzmRzi"
      },
      "source": [
        "#compilar el modelo\n",
        "modelo.compile(optimizer=tf.keras.optimizers.Adam(1),loss='mean_squared_error')"
      ],
      "execution_count": null,
      "outputs": []
    },
    {
      "cell_type": "code",
      "metadata": {
        "id": "pTWyBmv_nAI_",
        "colab": {
          "base_uri": "https://localhost:8080/"
        },
        "outputId": "85018ee1-fe87-4593-8c63-2e324e5159f4"
      },
      "source": [
        "#entrenamiento del modelo\n",
        "epocas = modelo.fit(Celsius, Fahrenheit, epochs=100)"
      ],
      "execution_count": null,
      "outputs": [
        {
          "output_type": "stream",
          "name": "stdout",
          "text": [
            "Epoch 1/100\n",
            "1/1 [==============================] - 1s 578ms/step - loss: 3125.8203\n",
            "Epoch 2/100\n",
            "1/1 [==============================] - 0s 7ms/step - loss: 550.2061\n",
            "Epoch 3/100\n",
            "1/1 [==============================] - 0s 6ms/step - loss: 1151.0883\n",
            "Epoch 4/100\n",
            "1/1 [==============================] - 0s 6ms/step - loss: 1813.2972\n",
            "Epoch 5/100\n",
            "1/1 [==============================] - 0s 7ms/step - loss: 1393.2224\n",
            "Epoch 6/100\n",
            "1/1 [==============================] - 0s 7ms/step - loss: 703.9151\n",
            "Epoch 7/100\n",
            "1/1 [==============================] - 0s 8ms/step - loss: 415.9295\n",
            "Epoch 8/100\n",
            "1/1 [==============================] - 0s 15ms/step - loss: 621.2844\n",
            "Epoch 9/100\n",
            "1/1 [==============================] - 0s 7ms/step - loss: 930.7068\n",
            "Epoch 10/100\n",
            "1/1 [==============================] - 0s 7ms/step - loss: 969.8481\n",
            "Epoch 11/100\n",
            "1/1 [==============================] - 0s 8ms/step - loss: 729.9213\n",
            "Epoch 12/100\n",
            "1/1 [==============================] - 0s 7ms/step - loss: 441.2107\n",
            "Epoch 13/100\n",
            "1/1 [==============================] - 0s 7ms/step - loss: 316.5450\n",
            "Epoch 14/100\n",
            "1/1 [==============================] - 0s 8ms/step - loss: 394.7568\n",
            "Epoch 15/100\n",
            "1/1 [==============================] - 0s 6ms/step - loss: 539.9449\n",
            "Epoch 16/100\n",
            "1/1 [==============================] - 0s 6ms/step - loss: 587.4572\n",
            "Epoch 17/100\n",
            "1/1 [==============================] - 0s 5ms/step - loss: 491.5657\n",
            "Epoch 18/100\n",
            "1/1 [==============================] - 0s 15ms/step - loss: 335.1810\n",
            "Epoch 19/100\n",
            "1/1 [==============================] - 0s 7ms/step - loss: 234.5535\n",
            "Epoch 20/100\n",
            "1/1 [==============================] - 0s 4ms/step - loss: 241.4230\n",
            "Epoch 21/100\n",
            "1/1 [==============================] - 0s 5ms/step - loss: 311.1184\n",
            "Epoch 22/100\n",
            "1/1 [==============================] - 0s 6ms/step - loss: 354.3037\n",
            "Epoch 23/100\n",
            "1/1 [==============================] - 0s 8ms/step - loss: 321.0863\n",
            "Epoch 24/100\n",
            "1/1 [==============================] - 0s 5ms/step - loss: 236.6030\n",
            "Epoch 25/100\n",
            "1/1 [==============================] - 0s 6ms/step - loss: 165.9583\n",
            "Epoch 26/100\n",
            "1/1 [==============================] - 0s 6ms/step - loss: 152.5985\n",
            "Epoch 27/100\n",
            "1/1 [==============================] - 0s 4ms/step - loss: 184.3690\n",
            "Epoch 28/100\n",
            "1/1 [==============================] - 0s 6ms/step - loss: 212.1236\n",
            "Epoch 29/100\n",
            "1/1 [==============================] - 0s 4ms/step - loss: 199.1723\n",
            "Epoch 30/100\n",
            "1/1 [==============================] - 0s 5ms/step - loss: 152.1899\n",
            "Epoch 31/100\n",
            "1/1 [==============================] - 0s 4ms/step - loss: 108.0122\n",
            "Epoch 32/100\n",
            "1/1 [==============================] - 0s 7ms/step - loss: 95.6708\n",
            "Epoch 33/100\n",
            "1/1 [==============================] - 0s 6ms/step - loss: 111.0933\n",
            "Epoch 34/100\n",
            "1/1 [==============================] - 0s 6ms/step - loss: 125.6690\n",
            "Epoch 35/100\n",
            "1/1 [==============================] - 0s 7ms/step - loss: 116.8393\n",
            "Epoch 36/100\n",
            "1/1 [==============================] - 0s 5ms/step - loss: 88.5646\n",
            "Epoch 37/100\n",
            "1/1 [==============================] - 0s 5ms/step - loss: 63.3213\n",
            "Epoch 38/100\n",
            "1/1 [==============================] - 0s 17ms/step - loss: 57.6061\n",
            "Epoch 39/100\n",
            "1/1 [==============================] - 0s 11ms/step - loss: 66.7792\n",
            "Epoch 40/100\n",
            "1/1 [==============================] - 0s 8ms/step - loss: 72.7604\n",
            "Epoch 41/100\n",
            "1/1 [==============================] - 0s 7ms/step - loss: 64.0699\n",
            "Epoch 42/100\n",
            "1/1 [==============================] - 0s 5ms/step - loss: 46.3110\n",
            "Epoch 43/100\n",
            "1/1 [==============================] - 0s 4ms/step - loss: 33.7964\n",
            "Epoch 44/100\n",
            "1/1 [==============================] - 0s 6ms/step - loss: 33.5748\n",
            "Epoch 45/100\n",
            "1/1 [==============================] - 0s 4ms/step - loss: 39.2489\n",
            "Epoch 46/100\n",
            "1/1 [==============================] - 0s 4ms/step - loss: 39.6825\n",
            "Epoch 47/100\n",
            "1/1 [==============================] - 0s 5ms/step - loss: 31.4459\n",
            "Epoch 48/100\n",
            "1/1 [==============================] - 0s 6ms/step - loss: 21.2222\n",
            "Epoch 49/100\n",
            "1/1 [==============================] - 0s 6ms/step - loss: 17.0440\n",
            "Epoch 50/100\n",
            "1/1 [==============================] - 0s 4ms/step - loss: 19.3913\n",
            "Epoch 51/100\n",
            "1/1 [==============================] - 0s 5ms/step - loss: 21.8255\n",
            "Epoch 52/100\n",
            "1/1 [==============================] - 0s 5ms/step - loss: 19.1382\n",
            "Epoch 53/100\n",
            "1/1 [==============================] - 0s 8ms/step - loss: 12.9130\n",
            "Epoch 54/100\n",
            "1/1 [==============================] - 0s 5ms/step - loss: 8.6552\n",
            "Epoch 55/100\n",
            "1/1 [==============================] - 0s 5ms/step - loss: 8.9501\n",
            "Epoch 56/100\n",
            "1/1 [==============================] - 0s 16ms/step - loss: 10.9730\n",
            "Epoch 57/100\n",
            "1/1 [==============================] - 0s 6ms/step - loss: 10.5710\n",
            "Epoch 58/100\n",
            "1/1 [==============================] - 0s 6ms/step - loss: 7.2569\n",
            "Epoch 59/100\n",
            "1/1 [==============================] - 0s 16ms/step - loss: 4.1709\n",
            "Epoch 60/100\n",
            "1/1 [==============================] - 0s 5ms/step - loss: 3.8005\n",
            "Epoch 61/100\n",
            "1/1 [==============================] - 0s 6ms/step - loss: 5.1351\n",
            "Epoch 62/100\n",
            "1/1 [==============================] - 0s 4ms/step - loss: 5.4215\n",
            "Epoch 63/100\n",
            "1/1 [==============================] - 0s 4ms/step - loss: 3.7370\n",
            "Epoch 64/100\n",
            "1/1 [==============================] - 0s 7ms/step - loss: 1.7943\n",
            "Epoch 65/100\n",
            "1/1 [==============================] - 0s 7ms/step - loss: 1.4182\n",
            "Epoch 66/100\n",
            "1/1 [==============================] - 0s 10ms/step - loss: 2.2832\n",
            "Epoch 67/100\n",
            "1/1 [==============================] - 0s 11ms/step - loss: 2.6580\n",
            "Epoch 68/100\n",
            "1/1 [==============================] - 0s 5ms/step - loss: 1.7789\n",
            "Epoch 69/100\n",
            "1/1 [==============================] - 0s 5ms/step - loss: 0.6377\n",
            "Epoch 70/100\n",
            "1/1 [==============================] - 0s 5ms/step - loss: 0.4368\n",
            "Epoch 71/100\n",
            "1/1 [==============================] - 0s 7ms/step - loss: 1.0248\n",
            "Epoch 72/100\n",
            "1/1 [==============================] - 0s 4ms/step - loss: 1.3081\n",
            "Epoch 73/100\n",
            "1/1 [==============================] - 0s 5ms/step - loss: 0.8056\n",
            "Epoch 74/100\n",
            "1/1 [==============================] - 0s 4ms/step - loss: 0.1637\n",
            "Epoch 75/100\n",
            "1/1 [==============================] - 0s 6ms/step - loss: 0.1239\n",
            "Epoch 76/100\n",
            "1/1 [==============================] - 0s 4ms/step - loss: 0.5336\n",
            "Epoch 77/100\n",
            "1/1 [==============================] - 0s 5ms/step - loss: 0.6932\n",
            "Epoch 78/100\n",
            "1/1 [==============================] - 0s 4ms/step - loss: 0.3707\n",
            "Epoch 79/100\n",
            "1/1 [==============================] - 0s 6ms/step - loss: 0.0291\n",
            "Epoch 80/100\n",
            "1/1 [==============================] - 0s 4ms/step - loss: 0.0878\n",
            "Epoch 81/100\n",
            "1/1 [==============================] - 0s 5ms/step - loss: 0.3624\n",
            "Epoch 82/100\n",
            "1/1 [==============================] - 0s 8ms/step - loss: 0.4152\n",
            "Epoch 83/100\n",
            "1/1 [==============================] - 0s 5ms/step - loss: 0.1925\n",
            "Epoch 84/100\n",
            "1/1 [==============================] - 0s 6ms/step - loss: 0.0318\n",
            "Epoch 85/100\n",
            "1/1 [==============================] - 0s 6ms/step - loss: 0.1299\n",
            "Epoch 86/100\n",
            "1/1 [==============================] - 0s 5ms/step - loss: 0.2930\n",
            "Epoch 87/100\n",
            "1/1 [==============================] - 0s 6ms/step - loss: 0.2725\n",
            "Epoch 88/100\n",
            "1/1 [==============================] - 0s 7ms/step - loss: 0.1216\n",
            "Epoch 89/100\n",
            "1/1 [==============================] - 0s 5ms/step - loss: 0.0683\n",
            "Epoch 90/100\n",
            "1/1 [==============================] - 0s 6ms/step - loss: 0.1632\n",
            "Epoch 91/100\n",
            "1/1 [==============================] - 0s 13ms/step - loss: 0.2372\n",
            "Epoch 92/100\n",
            "1/1 [==============================] - 0s 9ms/step - loss: 0.1807\n",
            "Epoch 93/100\n",
            "1/1 [==============================] - 0s 5ms/step - loss: 0.0907\n",
            "Epoch 94/100\n",
            "1/1 [==============================] - 0s 5ms/step - loss: 0.0951\n",
            "Epoch 95/100\n",
            "1/1 [==============================] - 0s 15ms/step - loss: 0.1621\n",
            "Epoch 96/100\n",
            "1/1 [==============================] - 0s 11ms/step - loss: 0.1739\n",
            "Epoch 97/100\n",
            "1/1 [==============================] - 0s 5ms/step - loss: 0.1141\n",
            "Epoch 98/100\n",
            "1/1 [==============================] - 0s 7ms/step - loss: 0.0742\n",
            "Epoch 99/100\n",
            "1/1 [==============================] - 0s 7ms/step - loss: 0.1000\n",
            "Epoch 100/100\n",
            "1/1 [==============================] - 0s 5ms/step - loss: 0.1314\n"
          ]
        }
      ]
    },
    {
      "cell_type": "code",
      "metadata": {
        "id": "VO44LzohoXj1",
        "colab": {
          "base_uri": "https://localhost:8080/",
          "height": 295
        },
        "outputId": "52705d31-28d9-4178-933a-db6482fe3f80"
      },
      "source": [
        "#evaluando el nivel de error del aprendizaje\n",
        "plt.plot(epocas.history[\"loss\"])\n",
        "plt.title(\"progreso del aprnedizaje\")\n",
        "plt.xlabel(\"epocas\")\n",
        "plt.ylabel(\"error del aprendizaje\")\n",
        "plt.show()"
      ],
      "execution_count": null,
      "outputs": [
        {
          "output_type": "display_data",
          "data": {
            "image/png": "[encoded data removed]",
            "text/plain": [
              "<Figure size 432x288 with 1 Axes>"
            ]
          },
          "metadata": {
            "needs_background": "light"
          }
        }
      ]
    },
    {
      "cell_type": "code",
      "metadata": {
        "id": "w5KFxjExpasc",
        "colab": {
          "base_uri": "https://localhost:8080/"
        },
        "outputId": "009607a4-93c8-46c3-f07a-72a928f43be3"
      },
      "source": [
        "#haciendo predicciones con el aprendizaje automatico \n",
        "f =modelo.predict([27])\n",
        "print(f)"
      ],
      "execution_count": null,
      "outputs": [
        {
          "output_type": "stream",
          "name": "stdout",
          "text": [
            "[[80.93393]]\n"
          ]
        }
      ]
    },
    {
      "cell_type": "markdown",
      "metadata": {
        "id": "zqKHlYIsqI45"
      },
      "source": [
        "ENTRENANDO UNA RED NEURONAL PARA QUE APRENDA A LEER NUMEROS DEL 0-9"
      ]
    },
    {
      "cell_type": "code",
      "metadata": {
        "id": "ruCyZLSaqJ9J"
      },
      "source": [
        "#Importar LAS LIBRERIAS\n",
        "import tensorflow as tf \n",
        "import matplotlib.pyplot as plt \n",
        "import numpy as np\n",
        "import math\n",
        "import tensorflow_datasets as tfds"
      ],
      "execution_count": 1,
      "outputs": []
    },
    {
      "cell_type": "code",
      "metadata": {
        "id": "QNhBLdvHqUjB",
        "colab": {
          "base_uri": "https://localhost:8080/",
          "height": 202
        },
        "outputId": "00301259-2530-4fdd-eea7-e611c8ffd48f"
      },
      "source": [
        "#cargamos nuestro dataset en variables \n",
        "dataset, metadata = tfds.load('mnist', as_supervised=True, with_info=True)\n",
        "datos_entrenamiento, datos_prueba = dataset[\"train\"], dataset[\"test\"]\n",
        "print(datos_entrenamiento)"
      ],
      "execution_count": 2,
      "outputs": [
        {
          "output_type": "stream",
          "name": "stdout",
          "text": [
            "\u001b[1mDownloading and preparing dataset mnist/3.0.1 (download: 11.06 MiB, generated: 21.00 MiB, total: 32.06 MiB) to /root/tensorflow_datasets/mnist/3.0.1...\u001b[0m\n"
          ]
        },
        {
          "output_type": "stream",
          "name": "stderr",
          "text": [
            "WARNING:absl:Dataset mnist is hosted on GCS. It will automatically be downloaded to your\n",
            "local data directory. If you'd instead prefer to read directly from our public\n",
            "GCS bucket (recommended if you're running on GCP), you can instead pass\n",
            "`try_gcs=True` to `tfds.load` or set `data_dir=gs://tfds-data/datasets`.\n",
            "\n"
          ]
        },
        {
          "output_type": "display_data",
          "data": {
            "application/vnd.jupyter.widget-view+json": {
              "model_id": "f4ac14f312d247ca8174f9a797f16cab",
              "version_minor": 0,
              "version_major": 2
            },
            "text/plain": [
              "Dl Completed...:   0%|          | 0/4 [00:00<?, ? file/s]"
            ]
          },
          "metadata": {}
        },
        {
          "output_type": "stream",
          "name": "stdout",
          "text": [
            "\n",
            "\u001b[1mDataset mnist downloaded and prepared to /root/tensorflow_datasets/mnist/3.0.1. Subsequent calls will reuse this data.\u001b[0m\n",
            "<PrefetchDataset shapes: ((28, 28, 1), ()), types: (tf.uint8, tf.int64)>\n"
          ]
        }
      ]
    },
    {
      "cell_type": "code",
      "metadata": {
        "id": "xRkgLuMXqYjx"
      },
      "source": [
        "numeros_letras = [\"Cero\", \"uno\", \"Dos\", \"Tres\", \"Cuatro\", \"Cinco\", \"Seis\", \"Siete\", \"Ocho\", \"Nueve\"\n",
        "]"
      ],
      "execution_count": 3,
      "outputs": []
    },
    {
      "cell_type": "code",
      "metadata": {
        "id": "YvBjMXPnqdHI",
        "colab": {
          "base_uri": "https://localhost:8080/"
        },
        "outputId": "02fc5200-35bd-478a-9e40-d5c9e51d789f"
      },
      "source": [
        "#pasar en variables los datos de entrenamiento y prueba\n",
        "numeros_ejemplo_entrenamiento = metadata.splits[\"train\"].num_examples\n",
        "numeros_ejemplo_prueba = metadata.splits[\"test\"].num_examples\n",
        "print(numeros_ejemplo_entrenamiento, numeros_ejemplo_prueba)"
      ],
      "execution_count": 4,
      "outputs": [
        {
          "output_type": "stream",
          "name": "stdout",
          "text": [
            "60000 10000\n"
          ]
        }
      ]
    },
    {
      "cell_type": "code",
      "metadata": {
        "id": "g_vrhazOqi3g"
      },
      "source": [
        "#funcion normalizadora de los pixels de 0 - 255 que sean de 0 - 1\n",
        "def normalizacion(images, labels):\n",
        "  images = tf.cast(images, tf.float32)\n",
        "  images /= 225\n",
        "  return images, labels"
      ],
      "execution_count": 5,
      "outputs": []
    },
    {
      "cell_type": "code",
      "metadata": {
        "id": "v64t4z0lqmNo"
      },
      "source": [
        "#llamamos la funcion normalizadora en ambos dataset \n",
        "datos_entrenamiento = datos_entrenamiento.map(normalizacion)\n",
        "datos_prueba = datos_prueba.map(normalizacion)"
      ],
      "execution_count": 6,
      "outputs": []
    },
    {
      "cell_type": "code",
      "metadata": {
        "id": "OwmI1QT3qrjR"
      },
      "source": [
        "#estructuramos nuestra red neuronal\n",
        "modelo = tf.keras.Sequential([\n",
        "        tf.keras.layers.Flatten(input_shape=(28,28,1)), #capa de entreda de 28*28 = 784 neuronas una para cada pixel\n",
        "        tf.keras.layers.Dense(64, activation=tf.nn.relu), #capa oculta con 64 neuronas, funcion de activacion relu\n",
        "        tf.keras.layers.Dense(64, activation=tf.nn.relu), #capa oculta con 64 neuronas, funcion de activacion relu\n",
        "        tf.keras.layers.Dense(10, activation=tf.nn.softmax) #capa de salida con 10 neuronas una para cada numero, \n",
        "        #funcion de activacion softmax. esta funcion es requerida para clasificacion\n",
        "])"
      ],
      "execution_count": 7,
      "outputs": []
    },
    {
      "cell_type": "code",
      "metadata": {
        "id": "YOlt5OBFq4b4"
      },
      "source": [
        "#Compilamos el modelo de red neuronal e indicamos las funciones a utilizar \n",
        "modelo.compile(\n",
        "    optimizer=\"adam\",\n",
        "    loss=\"sparse_categorical_crossentropy\",\n",
        "    metrics=['accuracy']\n",
        ")"
      ],
      "execution_count": 8,
      "outputs": []
    },
    {
      "cell_type": "code",
      "metadata": {
        "id": "trfzMtLrrAQg"
      },
      "source": [
        "#Entrenamiento de lotes\n",
        "batchsize = 32\n",
        "datos_entrenamiento = datos_entrenamiento.repeat().shuffle(numeros_ejemplo_entrenamiento).batch(batchsize)\n",
        "datos_prueba = datos_prueba.repeat().shuffle(numeros_ejemplo_prueba).batch(batchsize)"
      ],
      "execution_count": 9,
      "outputs": []
    },
    {
      "cell_type": "code",
      "metadata": {
        "id": "Eu5PBcp9rFT4",
        "colab": {
          "base_uri": "https://localhost:8080/"
        },
        "outputId": "ce0435f1-2f3f-4392-b33a-1f76b90c6502"
      },
      "source": [
        "#entrenamiento neutro modelo de datos\n",
        "modelo.fit(datos_entrenamiento, epochs=5,\n",
        "          steps_per_epoch=math.ceil(numeros_ejemplo_entrenamiento/batchsize))"
      ],
      "execution_count": 10,
      "outputs": [
        {
          "output_type": "stream",
          "name": "stdout",
          "text": [
            "Epoch 1/5\n",
            "1875/1875 [==============================] - 13s 4ms/step - loss: 0.2734 - accuracy: 0.9208\n",
            "Epoch 2/5\n",
            "1875/1875 [==============================] - 6s 3ms/step - loss: 0.1184 - accuracy: 0.9641\n",
            "Epoch 3/5\n",
            "1875/1875 [==============================] - 6s 3ms/step - loss: 0.0849 - accuracy: 0.9736\n",
            "Epoch 4/5\n",
            "1875/1875 [==============================] - 7s 4ms/step - loss: 0.0701 - accuracy: 0.9779\n",
            "Epoch 5/5\n",
            "1875/1875 [==============================] - 7s 4ms/step - loss: 0.0550 - accuracy: 0.9830\n"
          ]
        },
        {
          "output_type": "execute_result",
          "data": {
            "text/plain": [
              "<keras.callbacks.History at 0x7f95f16c3710>"
            ]
          },
          "metadata": {},
          "execution_count": 10
        }
      ]
    },
    {
      "cell_type": "code",
      "metadata": {
        "id": "Dno4jW1frH2H",
        "colab": {
          "base_uri": "https://localhost:8080/"
        },
        "outputId": "a4245279-fe17-4eb1-88f6-d8714510ac47"
      },
      "source": [
        "#evaluar el modelo con los datos de prueba\n",
        "test_loss, test_accuracy = modelo.evaluate(datos_prueba, steps=math.ceil(numeros_ejemplo_prueba/batchsize))\n",
        "print(\"Resultado de las pruebas\", test_loss, test_accuracy)"
      ],
      "execution_count": 11,
      "outputs": [
        {
          "output_type": "stream",
          "name": "stdout",
          "text": [
            "313/313 [==============================] - 2s 3ms/step - loss: 0.0932 - accuracy: 0.9723\n",
            "Resultado de las pruebas 0.09322677552700043 0.9723442196846008\n"
          ]
        }
      ]
    },
    {
      "cell_type": "code",
      "metadata": {
        "id": "Vf1DPAVJrLdX"
      },
      "source": [
        "#graficar la salida para evaluar los resultados\n",
        "def graficar_imagen(i, predictions_array, true_labels, images):\n",
        "  predictions_array, true_labels, ing = predictions_array[i], true_labels[i], images[i]\n",
        "  plt.grid(False)\n",
        "  plt.xticks([])\n",
        "  plt.yticks([])\n",
        "  plt.imshow(img[...,0], cmap=plt.cm.binary)\n",
        "\n",
        "  predicted_label =np.argmax(predictions_array)\n",
        "  if predicted_label==true_labels:\n",
        "    color = \"blue\"\n",
        "  else:\n",
        "    color = \"red\"\n",
        "    plt.xlabel(\"Prediccion: {}\".format(numeros_letras[predicted_label]), color=color)"
      ],
      "execution_count": 12,
      "outputs": []
    },
    {
      "cell_type": "code",
      "metadata": {
        "id": "nuAdpL8PsIWL"
      },
      "source": [
        "#convertimos los tensores o imagenes en matrices numpy\n",
        "for imagen_prueba, etiqueta_prueba in datos_prueba.take(1):\n",
        "  imagen_prueba = imagen_prueba.numpy()\n",
        "  etiqueta_prueba = etiqueta_prueba.numpy()\n",
        "  predicciones = modelo.predict(imagen_prueba)"
      ],
      "execution_count": 13,
      "outputs": []
    },
    {
      "cell_type": "code",
      "metadata": {
        "id": "OklB_AQwhbFQ",
        "outputId": "a36ed071-357a-4fa2-ae02-b3bb1b527be2",
        "colab": {
          "base_uri": "https://localhost:8080/",
          "height": 313
        }
      },
      "source": [
        "i = 0\n",
        "for miImagen, etiqueta in datos_entrenamiento.take(1):\n",
        "  etiqueta = etiqueta.numpy()\n",
        "  imagen = miImagen[i].numpy().reshape(1,28,28,1)\n",
        "  prediccion = modelo.predict(imagen, batch_size=1)\n",
        "\n",
        "  valor_predicho = np.argmax(prediccion)\n",
        "  print( valor_predicho, etiqueta[i] )\n",
        "\n",
        "index = 0\n",
        "img = imagen #imagen_prueba[index]\n",
        "plt.grid(False)\n",
        "plt.imshow(img[0,...,0], cmap=plt.cm.binary)\n",
        "label = etiqueta_prueba[index]\n",
        "plt.xlabel(\"prediccion: {}\".format(numeros_letras[valor_predicho]), color=\"green\")"
      ],
      "execution_count": 61,
      "outputs": [
        {
          "output_type": "stream",
          "name": "stdout",
          "text": [
            "3 3\n"
          ]
        },
        {
          "output_type": "execute_result",
          "data": {
            "text/plain": [
              "Text(0.5, 0, 'prediccion: Tres')"
            ]
          },
          "metadata": {},
          "execution_count": 61
        },
        {
          "output_type": "display_data",
          "data": {
            "image/png": "[encoded data removed]",
            "text/plain": [
              "<Figure size 432x288 with 1 Axes>"
            ]
          },
          "metadata": {
            "needs_background": "light"
          }
        }
      ]
    },
    {
      "cell_type": "code",
      "metadata": {
        "id": "fxJRnzy5sM__"
      },
      "source": [
        "#Graficamos los valores de las matriz una para las imagenes y otra para las graficas de barra segun el acierto\n",
        "def graficar_valores_matriz(i, matriz_prediccion, etiqueta_verdadera):\n",
        "  matriz_prediccion, etiqueta_verdadera = matriz_prediccion[i], etiqueta_verdadera[i]\n",
        "  plt.grid(False)\n",
        "  #plt.xticks([])\n",
        "  #plt.yticks([])\n",
        "  thisplot = plt.bar(range(10), matriz_prediccion, color=\"#888888\")\n",
        "  plt.ylim([0,1])\n",
        "  etiqueta_prediccion = np.argmax(matriz_prediccion)\n",
        "\n",
        "  thisplot[etiqueta_prediccion].set_color(\"red\")\n",
        "  thisplot[etiqueta_verdadera].set_color(\"green\")"
      ],
      "execution_count": 14,
      "outputs": []
    },
    {
      "cell_type": "code",
      "metadata": {
        "id": "JQpwwQ7ksetN"
      },
      "source": [
        "#recorrer las imagenes a graficar\n",
        "numfilas = 5\n",
        "numcols = 5\n",
        "numimgs = numfilas*numcols\n",
        "\n",
        "plt.figure(figsize=(2*2*numcols, 2*numfilas))\n",
        "for i in range(numimgs):\n",
        "  plt.subplot(numfilas, 2*numcols, 2*i+1)\n",
        "  graficar_imagen(i, predicciones, etiqueta_prueba, imagen_prueba)\n",
        "\n",
        "  plt.subplot(numfilas, 2*numcols, 2*i+2)\n",
        "  graficar_valores_matriz(i, predicciones, etiqueta_prueba)\n",
        "\n",
        "plt.show()"
      ],
      "execution_count": null,
      "outputs": []
    }
  ]
}